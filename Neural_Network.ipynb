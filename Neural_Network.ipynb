{
  "nbformat": 4,
  "nbformat_minor": 0,
  "metadata": {
    "colab": {
      "provenance": [],
      "toc_visible": true,
      "authorship_tag": "ABX9TyNsDKjdErXfvXUW4DgAChVb",
      "include_colab_link": true
    },
    "kernelspec": {
      "name": "python3",
      "display_name": "Python 3"
    },
    "language_info": {
      "name": "python"
    }
  },
  "cells": [
    {
      "cell_type": "markdown",
      "metadata": {
        "id": "view-in-github",
        "colab_type": "text"
      },
      "source": [
        "<a href=\"https://colab.research.google.com/github/bishwajit02/Pytorch-Tutorial-Youtube/blob/main/Neural_Network.ipynb\" target=\"_parent\"><img src=\"https://colab.research.google.com/assets/colab-badge.svg\" alt=\"Open In Colab\"/></a>"
      ]
    },
    {
      "cell_type": "markdown",
      "source": [
        "# **Simple Neural Network using Iris Dataset**"
      ],
      "metadata": {
        "id": "X_lf1YUmGQIe"
      }
    },
    {
      "cell_type": "code",
      "execution_count": 1,
      "metadata": {
        "id": "6RYRCVn_FYrT"
      },
      "outputs": [],
      "source": [
        "import torch\n",
        "import torch.nn as nn # nn stands for neural network\n",
        "import torch.nn.functional as F"
      ]
    },
    {
      "cell_type": "code",
      "source": [
        "# Create a model class that inherits nn.Module\n",
        "\n",
        "class Model(nn.Module):\n",
        "  # Input Layers (4 features)\n",
        "  # --> Then to hidden layers --> Output (3 classes of Iris flower)\n",
        "\n",
        "# The 'def __init__' function sets up the class\n",
        "  def __init__(self, in_features=4, h1=8, h2=9, out_features=3):\n",
        "    super().__init__()  # Instantiate the model\n",
        "    self.fc1 = nn.Linear(in_features, h1)   #fc - Fully Connected (Important for Neural Network)\n",
        "    self.fc2 = nn.Linear(h1, h2)  # The previous result h1 is now connected with the new layer h2\n",
        "    self.out = nn.Linear(h2, out_features)  # h2 is the last layer so it's directly connected to the output\n",
        "\n",
        "  def forward(self, x):\n",
        "    x = F.relu(self.fc1(x))  # relu - Rectified Linear Unit, More - https://pytorch.org/docs/stable/generated/torch.nn.ReLU.html#torch.nn.ReLU,\n",
        "    # If the input is positive (greater than zero): ReLU lets the input pass through unchanged.\n",
        "    x = F.relu(self.fc2(x))\n",
        "    x = self.out(x)\n",
        "\n",
        "    return x\n"
      ],
      "metadata": {
        "id": "0x1i_30mFywH"
      },
      "execution_count": 3,
      "outputs": []
    },
    {
      "cell_type": "code",
      "source": [
        "# Pick a manual seed for randomization - helps with reproductibility\n",
        "torch.manual_seed(42)\n",
        "\n",
        "# Create an instance for the model\n",
        "\n",
        "model = Model()"
      ],
      "metadata": {
        "id": "zIF-njAZK8l_"
      },
      "execution_count": 4,
      "outputs": []
    }
  ]
}