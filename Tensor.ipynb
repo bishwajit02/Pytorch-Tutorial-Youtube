{
  "nbformat": 4,
  "nbformat_minor": 0,
  "metadata": {
    "colab": {
      "provenance": [],
      "toc_visible": true,
      "authorship_tag": "ABX9TyO6X93RiRMr0tMuKG/BqHcd",
      "include_colab_link": true
    },
    "kernelspec": {
      "name": "python3",
      "display_name": "Python 3"
    },
    "language_info": {
      "name": "python"
    }
  },
  "cells": [
    {
      "cell_type": "markdown",
      "metadata": {
        "id": "view-in-github",
        "colab_type": "text"
      },
      "source": [
        "<a href=\"https://colab.research.google.com/github/bishwajit02/Pytorch-Tutorial-Youtube/blob/main/Tensor.ipynb\" target=\"_parent\"><img src=\"https://colab.research.google.com/assets/colab-badge.svg\" alt=\"Open In Colab\"/></a>"
      ]
    },
    {
      "cell_type": "markdown",
      "source": [
        "## **Tensor**"
      ],
      "metadata": {
        "id": "7_ikK65cGGnd"
      }
    },
    {
      "cell_type": "code",
      "source": [
        "import torch\n",
        "import numpy as np"
      ],
      "metadata": {
        "id": "kYMLpuo8GKtc"
      },
      "execution_count": 1,
      "outputs": []
    },
    {
      "cell_type": "code",
      "source": [
        "np1 = np.random.rand(3,4,5)\n",
        "np1"
      ],
      "metadata": {
        "colab": {
          "base_uri": "https://localhost:8080/"
        },
        "id": "xCeZux0fGmzs",
        "outputId": "abf5c6d1-931a-4572-f31a-e8d5f426e19a"
      },
      "execution_count": 4,
      "outputs": [
        {
          "output_type": "execute_result",
          "data": {
            "text/plain": [
              "array([[[0.08744148, 0.1109095 , 0.50839232, 0.16593245, 0.05359664],\n",
              "        [0.98703415, 0.57806522, 0.52722445, 0.49620354, 0.37613058],\n",
              "        [0.95059724, 0.09765012, 0.66717912, 0.57187812, 0.44719361],\n",
              "        [0.34874835, 0.31872815, 0.10811862, 0.411033  , 0.39797677]],\n",
              "\n",
              "       [[0.80475156, 0.74336922, 0.31679612, 0.9128753 , 0.50405964],\n",
              "        [0.53914303, 0.56440692, 0.42149287, 0.76194152, 0.31440325],\n",
              "        [0.48658804, 0.06569707, 0.71370248, 0.93274909, 0.46836042],\n",
              "        [0.24843321, 0.83761835, 0.69795374, 0.53911519, 0.4794341 ]],\n",
              "\n",
              "       [[0.63168966, 0.6779718 , 0.19312025, 0.79684089, 0.64139896],\n",
              "        [0.97538577, 0.35562358, 0.22056934, 0.25303895, 0.77538835],\n",
              "        [0.55040885, 0.56103272, 0.68924223, 0.12996115, 0.10512999],\n",
              "        [0.00538869, 0.81577911, 0.81959394, 0.68030789, 0.17197187]]])"
            ]
          },
          "metadata": {},
          "execution_count": 4
        }
      ]
    },
    {
      "cell_type": "code",
      "source": [
        "np1.dtype"
      ],
      "metadata": {
        "colab": {
          "base_uri": "https://localhost:8080/"
        },
        "id": "MEQYztD4GxcS",
        "outputId": "3ba28499-3ae6-486c-d04b-d4c39f750fee"
      },
      "execution_count": 3,
      "outputs": [
        {
          "output_type": "execute_result",
          "data": {
            "text/plain": [
              "dtype('float64')"
            ]
          },
          "metadata": {},
          "execution_count": 3
        }
      ]
    },
    {
      "cell_type": "code",
      "source": [
        "tensor_2d = torch.randn(3,4,5)\n",
        "tensor_2d"
      ],
      "metadata": {
        "colab": {
          "base_uri": "https://localhost:8080/"
        },
        "id": "4aHCNnjqG98U",
        "outputId": "d6dfad74-c7c2-43b9-bcc7-3cd1d99cd2b1"
      },
      "execution_count": 8,
      "outputs": [
        {
          "output_type": "execute_result",
          "data": {
            "text/plain": [
              "tensor([[[ 1.0221, -0.6424,  0.4496, -1.1396,  1.8124],\n",
              "         [ 1.3997,  1.5090,  0.7619,  0.3221, -1.4806],\n",
              "         [ 0.0085,  2.2789, -0.6026, -0.0184, -0.6549],\n",
              "         [ 0.3931, -1.2968,  0.5226, -0.3126, -0.0558]],\n",
              "\n",
              "        [[ 0.3193,  0.5907, -0.3710,  1.0568, -0.7180],\n",
              "         [ 0.6231, -0.1395, -0.1498, -2.3932, -2.0076],\n",
              "         [-0.1889, -0.8606, -1.6165,  0.4459, -0.5549],\n",
              "         [ 1.5400,  0.6593,  0.7858,  1.3765, -0.6982]],\n",
              "\n",
              "        [[-1.6242,  1.3453, -0.6740, -1.0915,  0.5703],\n",
              "         [-0.0855, -1.1868,  0.0432,  0.9371,  0.7018],\n",
              "         [-0.1977, -2.3132,  0.5804,  1.4561,  0.3849],\n",
              "         [ 2.6809, -0.3117,  0.5387, -1.5945,  0.2242]]])"
            ]
          },
          "metadata": {},
          "execution_count": 8
        }
      ]
    },
    {
      "cell_type": "code",
      "source": [
        "tnesor_3d = torch.zeros(1,1,5)\n",
        "tnesor_3d\n",
        "tensor_2d.dtype"
      ],
      "metadata": {
        "colab": {
          "base_uri": "https://localhost:8080/"
        },
        "id": "gD-MIY3KHf68",
        "outputId": "288a4786-dd11-4fa4-caf1-180ff1923287"
      },
      "execution_count": 20,
      "outputs": [
        {
          "output_type": "execute_result",
          "data": {
            "text/plain": [
              "torch.float32"
            ]
          },
          "metadata": {},
          "execution_count": 20
        }
      ]
    },
    {
      "cell_type": "markdown",
      "source": [
        "### Creating tensor from numpy array\n"
      ],
      "metadata": {
        "id": "Tg5OgCkCIAV9"
      }
    },
    {
      "cell_type": "code",
      "source": [
        "new = torch.tensor(np1)\n",
        "new"
      ],
      "metadata": {
        "colab": {
          "base_uri": "https://localhost:8080/"
        },
        "id": "YthXBC--IEko",
        "outputId": "154cdcf1-5d31-45dd-b2ec-69da760d30c7"
      },
      "execution_count": 18,
      "outputs": [
        {
          "output_type": "execute_result",
          "data": {
            "text/plain": [
              "tensor([[[0.0874, 0.1109, 0.5084, 0.1659, 0.0536],\n",
              "         [0.9870, 0.5781, 0.5272, 0.4962, 0.3761],\n",
              "         [0.9506, 0.0977, 0.6672, 0.5719, 0.4472],\n",
              "         [0.3487, 0.3187, 0.1081, 0.4110, 0.3980]],\n",
              "\n",
              "        [[0.8048, 0.7434, 0.3168, 0.9129, 0.5041],\n",
              "         [0.5391, 0.5644, 0.4215, 0.7619, 0.3144],\n",
              "         [0.4866, 0.0657, 0.7137, 0.9327, 0.4684],\n",
              "         [0.2484, 0.8376, 0.6980, 0.5391, 0.4794]],\n",
              "\n",
              "        [[0.6317, 0.6780, 0.1931, 0.7968, 0.6414],\n",
              "         [0.9754, 0.3556, 0.2206, 0.2530, 0.7754],\n",
              "         [0.5504, 0.5610, 0.6892, 0.1300, 0.1051],\n",
              "         [0.0054, 0.8158, 0.8196, 0.6803, 0.1720]]], dtype=torch.float64)"
            ]
          },
          "metadata": {},
          "execution_count": 18
        }
      ]
    },
    {
      "cell_type": "code",
      "source": [
        "new.dtype"
      ],
      "metadata": {
        "colab": {
          "base_uri": "https://localhost:8080/"
        },
        "id": "rt9kwTfuINeU",
        "outputId": "bddf4d02-9556-4db7-988d-111aacfc2ba9"
      },
      "execution_count": 19,
      "outputs": [
        {
          "output_type": "execute_result",
          "data": {
            "text/plain": [
              "torch.float64"
            ]
          },
          "metadata": {},
          "execution_count": 19
        }
      ]
    }
  ]
}