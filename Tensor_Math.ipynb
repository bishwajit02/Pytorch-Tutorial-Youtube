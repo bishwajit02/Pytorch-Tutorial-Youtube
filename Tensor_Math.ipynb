{
  "nbformat": 4,
  "nbformat_minor": 0,
  "metadata": {
    "colab": {
      "provenance": [],
      "toc_visible": true,
      "authorship_tag": "ABX9TyPMYYWF0XhJIPEOpSi47ogl",
      "include_colab_link": true
    },
    "kernelspec": {
      "name": "python3",
      "display_name": "Python 3"
    },
    "language_info": {
      "name": "python"
    }
  },
  "cells": [
    {
      "cell_type": "markdown",
      "metadata": {
        "id": "view-in-github",
        "colab_type": "text"
      },
      "source": [
        "<a href=\"https://colab.research.google.com/github/bishwajit02/Pytorch-Tutorial-Youtube/blob/main/Tensor_Math.ipynb\" target=\"_parent\"><img src=\"https://colab.research.google.com/assets/colab-badge.svg\" alt=\"Open In Colab\"/></a>"
      ]
    },
    {
      "cell_type": "markdown",
      "source": [
        "# **Tensor Math**"
      ],
      "metadata": {
        "id": "tEAoVt5T_66k"
      }
    },
    {
      "cell_type": "code",
      "execution_count": 1,
      "metadata": {
        "id": "4BQsNgqZ_1tr"
      },
      "outputs": [],
      "source": [
        "import torch"
      ]
    },
    {
      "cell_type": "code",
      "source": [
        "ta = torch.tensor([1,2,3,4])\n",
        "tb = torch.tensor([5,6,7,8])"
      ],
      "metadata": {
        "id": "nMZdXlrdAR5j"
      },
      "execution_count": 2,
      "outputs": []
    },
    {
      "cell_type": "code",
      "source": [
        "# Addition\n",
        "a = ta + tb\n",
        "b = torch.add(ta, tb)\n",
        "\n",
        "# To add more than two items\n",
        "c = torch.sum(torch.stack([a, b, ta, tb]), dim=0)\n",
        "c\n",
        "\n",
        "# Subtraction\n",
        "d = torch.sub(c, a)\n",
        "d\n",
        "\n",
        "# Multiplication\n",
        "e = torch.mul(d, c)\n",
        "e\n",
        "\n",
        "# Division\n",
        "f = torch.div(e, b)\n",
        "f\n",
        "\n",
        "# Remainder\n",
        "g = torch.remainder(e, f)\n",
        "g\n",
        "\n",
        "# Exponent/Power\n",
        "h = torch.pow(e, g)\n",
        "h # It goes like - first one of 'e' gets the power value euqal to the first one of 'g' and so on\n",
        "\n",
        "# Reassignment - one tensor is replaced by another\n",
        "ta = ta.add_(tb)\n",
        "ta"
      ],
      "metadata": {
        "colab": {
          "base_uri": "https://localhost:8080/"
        },
        "id": "iPNr7zA7AdCe",
        "outputId": "8b7c3283-c712-42c7-ffb0-ba86493cc18c"
      },
      "execution_count": 20,
      "outputs": [
        {
          "output_type": "execute_result",
          "data": {
            "text/plain": [
              "tensor([ 6,  8, 10, 12])"
            ]
          },
          "metadata": {},
          "execution_count": 20
        }
      ]
    }
  ]
}